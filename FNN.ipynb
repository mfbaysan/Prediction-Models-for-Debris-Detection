{
 "cells": [
  {
   "cell_type": "code",
   "execution_count": 1,
   "metadata": {
    "collapsed": false,
    "jupyter": {
     "outputs_hidden": false
    }
   },
   "outputs": [],
   "source": [
    "import torch.nn.functional as F\n",
    "import pytorch_lightning as pl\n",
    "import pickle\n",
    "import numpy as np\n",
    "import os\n",
    "import pandas as pd\n",
    "from sklearn.preprocessing import LabelEncoder\n",
    "from torch.utils.data import Dataset, DataLoader, random_split\n",
    "from CustomDataModule import CustomDataModule\n",
    "from LSTMModel import LSTMModel\n",
    "from lightning.pytorch.loggers import WandbLogger\n",
    "from pytorch_lightning.utilities.model_summary import summarize\n",
    "from sklearn.preprocessing import MinMaxScaler\n",
    "import torch\n",
    "import torch.nn as nn\n",
    "import torch.optim as optim\n",
    "from torch.utils.data import Dataset, DataLoader"
   ]
  },
  {
   "cell_type": "code",
   "execution_count": 2,
   "metadata": {
    "collapsed": false,
    "jupyter": {
     "outputs_hidden": false
    }
   },
   "outputs": [],
   "source": [
    "def process_radar_return(radar_return):\n",
    "    # Ensure the radar return has shape (num_rows, num_cols)\n",
    "    assert len(radar_return.shape) == 2\n",
    "\n",
    "    # Define the target length of 512\n",
    "    target_length = 512\n",
    "\n",
    "    # Randomly select the starting index for the sequence\n",
    "    start_index = np.random.randint(0, radar_return.shape[0] - 4)\n",
    "\n",
    "    # Select the subsequent 4 indices to form a sequence of 5 adjacent pulses\n",
    "    selected_pulses = np.arange(start_index, start_index + 5)\n",
    "\n",
    "    # Concatenate selected pulses along rows\n",
    "    concatenated_pulses = np.concatenate([radar_return[pulse, :] for pulse in selected_pulses], axis=0)\n",
    "\n",
    "    # Take np.abs to convert complex numbers to real numbers\n",
    "    epsilon = 1e-10\n",
    "    processed_radar_return = 10 * np.log10(((np.abs(concatenated_pulses))**2)+epsilon)\n",
    "\n",
    "    # Ensure the processed radar return has length 512\n",
    "    if processed_radar_return.shape[0] > target_length:\n",
    "        # If length is greater than 512, truncate the vector\n",
    "        processed_radar_return = processed_radar_return[:target_length]\n",
    "    elif processed_radar_return.shape[0] < target_length:\n",
    "        # If length is less than 512, pad with zeros\n",
    "        min_value = np.min(processed_radar_return)\n",
    "        pad_value = -200\n",
    "        processed_radar_return = np.pad(processed_radar_return,\n",
    "                                        (0, target_length - processed_radar_return.shape[0]),\n",
    "                                        mode='constant', constant_values=pad_value)\n",
    "\n",
    "    return processed_radar_return"
   ]
  },
  {
   "cell_type": "code",
   "execution_count": 3,
   "metadata": {
    "collapsed": false,
    "jupyter": {
     "outputs_hidden": false
    }
   },
   "outputs": [],
   "source": [
    "def normalize_radar_return_column(combined_df):\n",
    "    radar_data = combined_df['radar_return']\n",
    "\n",
    "    # Flatten the radar data for scaler fitting\n",
    "    flattened_data = [np.array(row).flatten() for row in radar_data]\n",
    "    flattened_data = np.concatenate(flattened_data).reshape(-1, 1)\n",
    "\n",
    "    # Fit the scaler on the flattened data\n",
    "    scaler = MinMaxScaler()\n",
    "    scaler.fit(flattened_data)\n",
    "\n",
    "    # Transform each row separately\n",
    "    normalized_data = [scaler.transform(np.array(row).reshape(-1, 1)).flatten().tolist() for row in radar_data]\n",
    "\n",
    "    # Reshape the normalized data back to its original shape\n",
    "    combined_df['radar_return'] = normalized_data\n",
    "\n",
    "    return combined_df"
   ]
  },
  {
   "cell_type": "code",
   "execution_count": 4,
   "metadata": {
    "collapsed": false,
    "jupyter": {
     "outputs_hidden": false
    }
   },
   "outputs": [
    {
     "name": "stdout",
     "output_type": "stream",
     "text": [
      "True\n"
     ]
    }
   ],
   "source": [
    "data_dir = 'First_data'  # Change this to your data folder path\n",
    "dataframes = []\n",
    "\n",
    "# set device!\n",
    "print(torch.cuda.is_available())\n",
    "device = torch.device(\"cuda\" if torch.cuda.is_available() else \"cpu\")"
   ]
  },
  {
   "cell_type": "code",
   "execution_count": 5,
   "metadata": {
    "collapsed": false,
    "jupyter": {
     "outputs_hidden": false
    }
   },
   "outputs": [
    {
     "name": "stdout",
     "output_type": "stream",
     "text": [
      "creating the dataframe...\n"
     ]
    }
   ],
   "source": [
    "print(\"creating the dataframe...\")\n",
    "for filename in os.listdir(data_dir):\n",
    "    if filename.endswith('.pickle'):\n",
    "        file_path = os.path.join(data_dir, filename)\n",
    "        with open(file_path, 'rb') as f:\n",
    "            # Load data from pickle file\n",
    "            data = pickle.load(f)\n",
    "            # Extract radar_return and object_id\n",
    "            radar_return = data['radar_return']\n",
    "            object_id = data['object_id']\n",
    "            # Concatenate radar_return along the columns\n",
    "            concatenated_radar = process_radar_return(radar_return).astype('float32')\n",
    "            # Create a DataFrame with concatenated radar and object_id\n",
    "            df = pd.DataFrame({'radar_return': [concatenated_radar], 'object_id': [object_id]})\n",
    "            # Append the DataFrame to the list\n",
    "            dataframes.append(df)\n",
    "\n",
    "# Concatenate all DataFrames into one\n",
    "combined_df = pd.concat(dataframes, ignore_index=True)\n",
    "combined_df = normalize_radar_return_column(combined_df)"
   ]
  },
  {
   "cell_type": "code",
   "execution_count": 6,
   "metadata": {
    "collapsed": false,
    "jupyter": {
     "outputs_hidden": false
    }
   },
   "outputs": [],
   "source": [
    "class FNN(nn.Module):\n",
    "    def __init__(self, input_size, hidden_size, output_size):\n",
    "        super(FNN, self).__init__()\n",
    "        self.model = nn.Sequential(\n",
    "            nn.Linear(input_size, hidden_size),\n",
    "            nn.BatchNorm1d(hidden_size),\n",
    "            nn.ReLU(),\n",
    "            nn.Linear(input_size, hidden_size),\n",
    "            nn.BatchNorm1d(hidden_size),\n",
    "            nn.ReLU(),\n",
    "            nn.Linear(input_size, hidden_size),\n",
    "            nn.BatchNorm1d(hidden_size),\n",
    "            nn.ReLU(),\n",
    "            nn.Linear(input_size, hidden_size),\n",
    "            nn.BatchNorm1d(hidden_size),\n",
    "            nn.ReLU(),\n",
    "            nn.Linear(hidden_size, hidden_size),\n",
    "            nn.BatchNorm1d(hidden_size),\n",
    "            nn.ReLU(),\n",
    "            nn.Linear(hidden_size, hidden_size),\n",
    "            nn.BatchNorm1d(hidden_size),\n",
    "            nn.ReLU(),\n",
    "            nn.Linear(hidden_size, hidden_size),\n",
    "            nn.BatchNorm1d(hidden_size),\n",
    "            nn.ReLU(),\n",
    "            nn.Linear(hidden_size, hidden_size),\n",
    "            nn.BatchNorm1d(hidden_size),\n",
    "            nn.ReLU(),\n",
    "            nn.Linear(hidden_size, output_size)\n",
    "        )\n",
    "\n",
    "    def forward(self, x):\n",
    "        return self.model(x)"
   ]
  },
  {
   "cell_type": "code",
   "execution_count": 7,
   "metadata": {
    "collapsed": false,
    "jupyter": {
     "outputs_hidden": false
    }
   },
   "outputs": [],
   "source": [
    "class RadarDataset(Dataset):\n",
    "    def __init__(self, data, labels):\n",
    "        self.data = data\n",
    "        self.labels = labels\n",
    "\n",
    "    def __len__(self):\n",
    "        return len(self.data)\n",
    "\n",
    "    def __getitem__(self, idx):\n",
    "        return self.data[idx], self.labels[idx]\n"
   ]
  },
  {
   "cell_type": "code",
   "execution_count": 8,
   "metadata": {},
   "outputs": [],
   "source": [
    "radar_data = torch.tensor(combined_df['radar_return'].values.tolist(), dtype=torch.float32)\n",
    "object_ids = combined_df['object_id'].values.tolist()\n",
    "# Use LabelEncoder to convert object_ids to numerical labels\n",
    "label_encoder = LabelEncoder()\n",
    "object_ids_encoded = label_encoder.fit_transform(object_ids)\n",
    "\n",
    "# Convert encoded labels to tensor\n",
    "object_ids_tensor = torch.tensor(object_ids_encoded, dtype=torch.float32)\n",
    "\n",
    "# Define hyperparameters\n",
    "input_size = radar_data.shape[1]\n",
    "hidden_size = 512\n",
    "output_size = 1\n",
    "learning_rate = 0.001\n",
    "num_epochs = 20\n",
    "batch_size = 32\n",
    "\n",
    "# Create FNN instance\n",
    "model = FNN(input_size, hidden_size, output_size)\n",
    "\n",
    "# Define loss function and optimizer\n",
    "criterion = nn.MSELoss()\n",
    "optimizer = optim.Adam(model.parameters(), lr=learning_rate)\n",
    "\n",
    "# Create DataLoader for batch training\n",
    "dataset = RadarDataset(radar_data, object_ids_tensor)\n",
    "data_loader = DataLoader(dataset, batch_size=batch_size, shuffle=True)"
   ]
  },
  {
   "cell_type": "code",
   "execution_count": 9,
   "metadata": {},
   "outputs": [
    {
     "data": {
      "text/plain": [
       "FNN(\n",
       "  (model): Sequential(\n",
       "    (0): Linear(in_features=512, out_features=512, bias=True)\n",
       "    (1): BatchNorm1d(512, eps=1e-05, momentum=0.1, affine=True, track_running_stats=True)\n",
       "    (2): ReLU()\n",
       "    (3): Linear(in_features=512, out_features=512, bias=True)\n",
       "    (4): BatchNorm1d(512, eps=1e-05, momentum=0.1, affine=True, track_running_stats=True)\n",
       "    (5): ReLU()\n",
       "    (6): Linear(in_features=512, out_features=512, bias=True)\n",
       "    (7): BatchNorm1d(512, eps=1e-05, momentum=0.1, affine=True, track_running_stats=True)\n",
       "    (8): ReLU()\n",
       "    (9): Linear(in_features=512, out_features=512, bias=True)\n",
       "    (10): BatchNorm1d(512, eps=1e-05, momentum=0.1, affine=True, track_running_stats=True)\n",
       "    (11): ReLU()\n",
       "    (12): Linear(in_features=512, out_features=512, bias=True)\n",
       "    (13): BatchNorm1d(512, eps=1e-05, momentum=0.1, affine=True, track_running_stats=True)\n",
       "    (14): ReLU()\n",
       "    (15): Linear(in_features=512, out_features=512, bias=True)\n",
       "    (16): BatchNorm1d(512, eps=1e-05, momentum=0.1, affine=True, track_running_stats=True)\n",
       "    (17): ReLU()\n",
       "    (18): Linear(in_features=512, out_features=512, bias=True)\n",
       "    (19): BatchNorm1d(512, eps=1e-05, momentum=0.1, affine=True, track_running_stats=True)\n",
       "    (20): ReLU()\n",
       "    (21): Linear(in_features=512, out_features=512, bias=True)\n",
       "    (22): BatchNorm1d(512, eps=1e-05, momentum=0.1, affine=True, track_running_stats=True)\n",
       "    (23): ReLU()\n",
       "    (24): Linear(in_features=512, out_features=1, bias=True)\n",
       "  )\n",
       ")"
      ]
     },
     "execution_count": 9,
     "metadata": {},
     "output_type": "execute_result"
    }
   ],
   "source": [
    "device = torch.device(\"cuda\" if torch.cuda.is_available() else \"cpu\")\n",
    "\n",
    "# Move model to GPU if available\n",
    "model.to(device)"
   ]
  },
  {
   "cell_type": "code",
   "execution_count": 10,
   "metadata": {
    "collapsed": false,
    "jupyter": {
     "outputs_hidden": false
    }
   },
   "outputs": [
    {
     "name": "stdout",
     "output_type": "stream",
     "text": [
      "Epoch [1/20], Step [100/625], Loss: 10.7131, Accuracy: 0.0934\n",
      "Epoch [1/20], Step [200/625], Loss: 8.7211, Accuracy: 0.1091\n",
      "Epoch [1/20], Step [300/625], Loss: 8.6818, Accuracy: 0.1053\n",
      "Epoch [1/20], Step [400/625], Loss: 8.4037, Accuracy: 0.0963\n",
      "Epoch [1/20], Step [500/625], Loss: 8.5972, Accuracy: 0.1025\n",
      "Epoch [1/20], Step [600/625], Loss: 8.4514, Accuracy: 0.0944\n",
      "Epoch [2/20], Step [100/625], Loss: 8.5812, Accuracy: 0.0978\n",
      "Epoch [2/20], Step [200/625], Loss: 8.5369, Accuracy: 0.1019\n",
      "Epoch [2/20], Step [300/625], Loss: 8.4149, Accuracy: 0.1016\n",
      "Epoch [2/20], Step [400/625], Loss: 8.5161, Accuracy: 0.0972\n",
      "Epoch [2/20], Step [500/625], Loss: 8.5160, Accuracy: 0.1009\n",
      "Epoch [2/20], Step [600/625], Loss: 8.2908, Accuracy: 0.1019\n",
      "Epoch [3/20], Step [100/625], Loss: 8.6891, Accuracy: 0.0984\n",
      "Epoch [3/20], Step [200/625], Loss: 8.3897, Accuracy: 0.0941\n",
      "Epoch [3/20], Step [300/625], Loss: 8.5592, Accuracy: 0.1081\n",
      "Epoch [3/20], Step [400/625], Loss: 8.4786, Accuracy: 0.1062\n",
      "Epoch [3/20], Step [500/625], Loss: 8.3808, Accuracy: 0.1044\n",
      "Epoch [3/20], Step [600/625], Loss: 8.2680, Accuracy: 0.0938\n",
      "Epoch [4/20], Step [100/625], Loss: 8.5875, Accuracy: 0.1041\n",
      "Epoch [4/20], Step [200/625], Loss: 8.4268, Accuracy: 0.0997\n",
      "Epoch [4/20], Step [300/625], Loss: 8.4144, Accuracy: 0.0941\n",
      "Epoch [4/20], Step [400/625], Loss: 8.5881, Accuracy: 0.1056\n",
      "Epoch [4/20], Step [500/625], Loss: 8.2062, Accuracy: 0.0947\n",
      "Epoch [4/20], Step [600/625], Loss: 8.3278, Accuracy: 0.1044\n",
      "Epoch [5/20], Step [100/625], Loss: 8.3819, Accuracy: 0.0972\n",
      "Epoch [5/20], Step [200/625], Loss: 8.2454, Accuracy: 0.1006\n",
      "Epoch [5/20], Step [300/625], Loss: 8.3889, Accuracy: 0.0997\n",
      "Epoch [5/20], Step [400/625], Loss: 8.1614, Accuracy: 0.0978\n",
      "Epoch [5/20], Step [500/625], Loss: 8.5564, Accuracy: 0.1013\n",
      "Epoch [5/20], Step [600/625], Loss: 8.4154, Accuracy: 0.1016\n",
      "Epoch [6/20], Step [100/625], Loss: 8.2410, Accuracy: 0.0994\n",
      "Epoch [6/20], Step [200/625], Loss: 8.3621, Accuracy: 0.0984\n",
      "Epoch [6/20], Step [300/625], Loss: 8.3532, Accuracy: 0.1019\n",
      "Epoch [6/20], Step [400/625], Loss: 8.6484, Accuracy: 0.1050\n",
      "Epoch [6/20], Step [500/625], Loss: 8.3718, Accuracy: 0.0950\n",
      "Epoch [6/20], Step [600/625], Loss: 8.4123, Accuracy: 0.0978\n",
      "Epoch [7/20], Step [100/625], Loss: 8.0655, Accuracy: 0.0975\n",
      "Epoch [7/20], Step [200/625], Loss: 8.4975, Accuracy: 0.1000\n",
      "Epoch [7/20], Step [300/625], Loss: 8.5516, Accuracy: 0.1047\n",
      "Epoch [7/20], Step [400/625], Loss: 8.3362, Accuracy: 0.0966\n",
      "Epoch [7/20], Step [500/625], Loss: 8.4627, Accuracy: 0.1019\n",
      "Epoch [7/20], Step [600/625], Loss: 8.2419, Accuracy: 0.0991\n",
      "Epoch [8/20], Step [100/625], Loss: 8.5613, Accuracy: 0.1041\n",
      "Epoch [8/20], Step [200/625], Loss: 8.4232, Accuracy: 0.1034\n",
      "Epoch [8/20], Step [300/625], Loss: 8.4757, Accuracy: 0.1009\n",
      "Epoch [8/20], Step [400/625], Loss: 8.2102, Accuracy: 0.0988\n",
      "Epoch [8/20], Step [500/625], Loss: 8.2431, Accuracy: 0.1031\n",
      "Epoch [8/20], Step [600/625], Loss: 8.1961, Accuracy: 0.0903\n",
      "Epoch [9/20], Step [100/625], Loss: 8.3921, Accuracy: 0.0928\n",
      "Epoch [9/20], Step [200/625], Loss: 8.5152, Accuracy: 0.1013\n",
      "Epoch [9/20], Step [300/625], Loss: 8.2746, Accuracy: 0.0953\n",
      "Epoch [9/20], Step [400/625], Loss: 8.2679, Accuracy: 0.1006\n",
      "Epoch [9/20], Step [500/625], Loss: 8.4074, Accuracy: 0.1078\n",
      "Epoch [9/20], Step [600/625], Loss: 8.2837, Accuracy: 0.1022\n",
      "Epoch [10/20], Step [100/625], Loss: 8.5145, Accuracy: 0.1037\n",
      "Epoch [10/20], Step [200/625], Loss: 8.1801, Accuracy: 0.0916\n",
      "Epoch [10/20], Step [300/625], Loss: 8.3342, Accuracy: 0.1066\n",
      "Epoch [10/20], Step [400/625], Loss: 8.3060, Accuracy: 0.0988\n",
      "Epoch [10/20], Step [500/625], Loss: 8.3214, Accuracy: 0.0963\n",
      "Epoch [10/20], Step [600/625], Loss: 8.3083, Accuracy: 0.1009\n",
      "Epoch [11/20], Step [100/625], Loss: 8.3376, Accuracy: 0.1003\n",
      "Epoch [11/20], Step [200/625], Loss: 8.3507, Accuracy: 0.1047\n",
      "Epoch [11/20], Step [300/625], Loss: 8.3329, Accuracy: 0.0994\n",
      "Epoch [11/20], Step [400/625], Loss: 8.2039, Accuracy: 0.0941\n",
      "Epoch [11/20], Step [500/625], Loss: 8.4127, Accuracy: 0.1006\n",
      "Epoch [11/20], Step [600/625], Loss: 8.3396, Accuracy: 0.1022\n",
      "Epoch [12/20], Step [100/625], Loss: 8.2324, Accuracy: 0.0991\n",
      "Epoch [12/20], Step [200/625], Loss: 8.5605, Accuracy: 0.1044\n",
      "Epoch [12/20], Step [300/625], Loss: 8.3503, Accuracy: 0.0944\n",
      "Epoch [12/20], Step [400/625], Loss: 8.1003, Accuracy: 0.0963\n",
      "Epoch [12/20], Step [500/625], Loss: 8.3468, Accuracy: 0.0912\n",
      "Epoch [12/20], Step [600/625], Loss: 8.4611, Accuracy: 0.1147\n",
      "Epoch [13/20], Step [100/625], Loss: 8.1686, Accuracy: 0.1000\n",
      "Epoch [13/20], Step [200/625], Loss: 8.4804, Accuracy: 0.1013\n",
      "Epoch [13/20], Step [300/625], Loss: 8.3383, Accuracy: 0.0956\n",
      "Epoch [13/20], Step [400/625], Loss: 8.4320, Accuracy: 0.1022\n",
      "Epoch [13/20], Step [500/625], Loss: 8.1716, Accuracy: 0.0950\n",
      "Epoch [13/20], Step [600/625], Loss: 8.5179, Accuracy: 0.1041\n",
      "Epoch [14/20], Step [100/625], Loss: 8.3607, Accuracy: 0.1028\n",
      "Epoch [14/20], Step [200/625], Loss: 8.1036, Accuracy: 0.1003\n",
      "Epoch [14/20], Step [300/625], Loss: 8.3633, Accuracy: 0.1006\n",
      "Epoch [14/20], Step [400/625], Loss: 8.2893, Accuracy: 0.0934\n",
      "Epoch [14/20], Step [500/625], Loss: 8.3231, Accuracy: 0.1009\n",
      "Epoch [14/20], Step [600/625], Loss: 8.4532, Accuracy: 0.1028\n",
      "Epoch [15/20], Step [100/625], Loss: 8.3316, Accuracy: 0.1003\n",
      "Epoch [15/20], Step [200/625], Loss: 8.2120, Accuracy: 0.0991\n",
      "Epoch [15/20], Step [300/625], Loss: 8.5635, Accuracy: 0.1031\n",
      "Epoch [15/20], Step [400/625], Loss: 8.2619, Accuracy: 0.0975\n",
      "Epoch [15/20], Step [500/625], Loss: 8.2195, Accuracy: 0.0953\n",
      "Epoch [15/20], Step [600/625], Loss: 8.4884, Accuracy: 0.1016\n",
      "Epoch [16/20], Step [100/625], Loss: 8.3484, Accuracy: 0.1003\n",
      "Epoch [16/20], Step [200/625], Loss: 8.2596, Accuracy: 0.1075\n",
      "Epoch [16/20], Step [300/625], Loss: 8.2603, Accuracy: 0.0984\n",
      "Epoch [16/20], Step [400/625], Loss: 8.3993, Accuracy: 0.0966\n",
      "Epoch [16/20], Step [500/625], Loss: 8.4544, Accuracy: 0.0997\n",
      "Epoch [16/20], Step [600/625], Loss: 8.3487, Accuracy: 0.1016\n",
      "Epoch [17/20], Step [100/625], Loss: 8.2149, Accuracy: 0.1016\n",
      "Epoch [17/20], Step [200/625], Loss: 8.1296, Accuracy: 0.0969\n",
      "Epoch [17/20], Step [300/625], Loss: 8.1928, Accuracy: 0.0966\n",
      "Epoch [17/20], Step [400/625], Loss: 8.3977, Accuracy: 0.1028\n",
      "Epoch [17/20], Step [500/625], Loss: 8.4837, Accuracy: 0.1091\n",
      "Epoch [17/20], Step [600/625], Loss: 8.3999, Accuracy: 0.0959\n",
      "Epoch [18/20], Step [100/625], Loss: 8.4605, Accuracy: 0.1003\n",
      "Epoch [18/20], Step [200/625], Loss: 8.3895, Accuracy: 0.0991\n",
      "Epoch [18/20], Step [300/625], Loss: 8.3512, Accuracy: 0.0950\n",
      "Epoch [18/20], Step [400/625], Loss: 8.3986, Accuracy: 0.1047\n",
      "Epoch [18/20], Step [500/625], Loss: 8.2875, Accuracy: 0.0991\n",
      "Epoch [18/20], Step [600/625], Loss: 8.1947, Accuracy: 0.1041\n",
      "Epoch [19/20], Step [100/625], Loss: 8.3192, Accuracy: 0.1025\n",
      "Epoch [19/20], Step [200/625], Loss: 8.2081, Accuracy: 0.0969\n",
      "Epoch [19/20], Step [300/625], Loss: 8.3557, Accuracy: 0.0956\n",
      "Epoch [19/20], Step [400/625], Loss: 8.2629, Accuracy: 0.1047\n",
      "Epoch [19/20], Step [500/625], Loss: 8.5025, Accuracy: 0.1009\n",
      "Epoch [19/20], Step [600/625], Loss: 8.4378, Accuracy: 0.0988\n",
      "Epoch [20/20], Step [100/625], Loss: 8.4630, Accuracy: 0.1016\n",
      "Epoch [20/20], Step [200/625], Loss: 8.4119, Accuracy: 0.1041\n",
      "Epoch [20/20], Step [300/625], Loss: 8.2609, Accuracy: 0.0963\n",
      "Epoch [20/20], Step [400/625], Loss: 8.2180, Accuracy: 0.0894\n",
      "Epoch [20/20], Step [500/625], Loss: 8.3423, Accuracy: 0.1034\n",
      "Epoch [20/20], Step [600/625], Loss: 8.3422, Accuracy: 0.1050\n",
      "Training finished.\n"
     ]
    }
   ],
   "source": [
    "\n",
    "# Training loop\n",
    "for epoch in range(num_epochs):\n",
    "    correct_predictions = 0\n",
    "    total_samples = 0\n",
    "    total_loss = 0.0\n",
    "    \n",
    "    for i, (inputs, labels) in enumerate(data_loader):\n",
    "        # Move inputs and labels to the same device as the model\n",
    "        inputs, labels = inputs.to(device), labels.to(device)\n",
    "        \n",
    "        # Forward pass\n",
    "        outputs = model(inputs)\n",
    "\n",
    "        # Compute loss\n",
    "        loss = criterion(outputs, labels.view(-1, 1))\n",
    "\n",
    "        # Backward pass and optimization\n",
    "        optimizer.zero_grad()\n",
    "        loss.backward()\n",
    "        optimizer.step()\n",
    "\n",
    "        # Calculate training accuracy\n",
    "        _, predicted = torch.max(outputs, 1)\n",
    "        correct_predictions += (predicted == labels).sum().item()\n",
    "        total_samples += labels.size(0)\n",
    "\n",
    "        # Accumulate total loss\n",
    "        total_loss += loss.item()\n",
    "\n",
    "        if (i+1) % 100 == 0:\n",
    "            avg_loss = total_loss / 100\n",
    "            accuracy = correct_predictions / total_samples\n",
    "\n",
    "            print(f'Epoch [{epoch+1}/{num_epochs}], Step [{i+1}/{len(data_loader)}], Loss: {avg_loss:.4f}, Accuracy: {accuracy:.4f}')\n",
    "\n",
    "            total_loss = 0.0\n",
    "            correct_predictions = 0\n",
    "            total_samples = 0\n",
    "\n",
    "print('Training finished.')"
   ]
  },
  {
   "cell_type": "code",
   "execution_count": null,
   "metadata": {},
   "outputs": [],
   "source": []
  }
 ],
 "metadata": {
  "kernelspec": {
   "display_name": "Python 3 (ipykernel)",
   "language": "python",
   "name": "python3"
  },
  "language_info": {
   "codemirror_mode": {
    "name": "ipython",
    "version": 3
   },
   "file_extension": ".py",
   "mimetype": "text/x-python",
   "name": "python",
   "nbconvert_exporter": "python",
   "pygments_lexer": "ipython3",
   "version": "3.9.13"
  }
 },
 "nbformat": 4,
 "nbformat_minor": 4
}
