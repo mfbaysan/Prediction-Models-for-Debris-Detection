{
 "cells": [
  {
   "cell_type": "code",
   "execution_count": 9,
   "metadata": {},
   "outputs": [],
   "source": [
    "import os\n",
    "import pickle\n",
    "import pandas as pd\n",
    "import torch\n",
    "import numpy as np\n",
    "import matplotlib.pyplot as plt"
   ]
  },
  {
   "cell_type": "code",
   "execution_count": 2,
   "metadata": {
    "collapsed": false,
    "jupyter": {
     "outputs_hidden": false
    }
   },
   "outputs": [],
   "source": [
    "def get_pickle_files(folder_path):\n",
    "    \"\"\"\n",
    "    Get all the .pickle files from a folder.\n",
    "\n",
    "    Args:\n",
    "    - folder_path (str): Path to the folder containing .pickle files\n",
    "\n",
    "    Returns:\n",
    "    - List of .pickle files\n",
    "    \"\"\"\n",
    "    pickle_files = [file for file in os.listdir(folder_path) if file.endswith('.pickle')]\n",
    "    return pickle_files"
   ]
  },
  {
   "cell_type": "code",
   "execution_count": 3,
   "metadata": {
    "collapsed": false,
    "jupyter": {
     "outputs_hidden": false
    }
   },
   "outputs": [],
   "source": [
    "def convert_to_3d_tensors(radar_return):\n",
    "    \"\"\"\n",
    "    Convert radar_return values to 3D torch tensors.\n",
    "\n",
    "    Args:\n",
    "    - radar_return (ndarray): 2D matrix consisting of complex numbers\n",
    "\n",
    "    Returns:\n",
    "    - 3D torch tensor with shape (width, height, channels)\n",
    "    \"\"\"\n",
    "    real_part = radar_return.real\n",
    "    imag_part = radar_return.imag\n",
    "    # Convert NumPy arrays to PyTorch tensors\n",
    "    array = np.stack((real_part, imag_part), axis=0)\n",
    "    return array"
   ]
  },
  {
   "cell_type": "code",
   "execution_count": 4,
   "metadata": {
    "collapsed": false,
    "jupyter": {
     "outputs_hidden": false
    }
   },
   "outputs": [],
   "source": [
    "def process_pickle_files(folder_path):\n",
    "    \"\"\"\n",
    "    Process all .pickle files in a folder.\n",
    "\n",
    "    Args:\n",
    "    - folder_path (str): Path to the folder containing .pickle files\n",
    "\n",
    "    Returns:\n",
    "    - DataFrame containing all the samples\n",
    "    \"\"\"\n",
    "    # Get .pickle files\n",
    "    pickle_files = get_pickle_files(folder_path)\n",
    "    dataframes = []\n",
    "    for file_name in pickle_files:\n",
    "        with open(os.path.join(folder_path, file_name), 'rb') as f:\n",
    "            file_data = pickle.load(f)\n",
    "            radar_return = file_data['radar_return']\n",
    "            object_id = file_data['object_id']\n",
    "            concatenated_radar = convert_to_3d_tensors(radar_return).astype('float32')\n",
    "            # Create a DataFrame with concatenated radar and object_id\n",
    "            df = pd.DataFrame({'radar_return': [concatenated_radar], 'object_id': [object_id]})\n",
    "            # Append the DataFrame to the list\n",
    "            dataframes.append(df)\n",
    "\n",
    "    # Concatenate the list of DataFrames into a single DataFrame\n",
    "    df = pd.concat(dataframes, ignore_index=True)\n",
    "    return df"
   ]
  },
  {
   "cell_type": "markdown",
   "metadata": {
    "collapsed": false,
    "jupyter": {
     "outputs_hidden": false
    }
   },
   "source": []
  },
  {
   "cell_type": "code",
   "execution_count": 5,
   "metadata": {
    "collapsed": false,
    "jupyter": {
     "outputs_hidden": false
    }
   },
   "outputs": [],
   "source": [
    "# Example usage\n",
    "folder_path = 'Overfit_data'\n",
    "df = process_pickle_files(folder_path)"
   ]
  },
  {
   "cell_type": "code",
   "execution_count": 14,
   "metadata": {},
   "outputs": [
    {
     "name": "stdout",
     "output_type": "stream",
     "text": [
      "Shape of the sample image: (2, 108, 50)\n",
      "Sample image values:\n",
      "[[[1.3630228e-03 6.9898058e-04 8.8521733e-04 ... 6.0069751e-06\n",
      "   7.9557240e-06 0.0000000e+00]\n",
      "  [1.3540494e-03 7.0099538e-04 8.8623224e-04 ... 5.7911434e-06\n",
      "   8.9290361e-06 0.0000000e+00]\n",
      "  [1.3693771e-03 6.9884409e-04 8.9456886e-04 ... 9.8729406e-06\n",
      "   1.1725869e-05 0.0000000e+00]\n",
      "  ...\n",
      "  [1.9968518e-05 2.4618219e-06 5.2131745e-06 ... 1.0604719e-03\n",
      "   1.7985321e-03 0.0000000e+00]\n",
      "  [7.0221413e-06 1.1079486e-05 1.4272417e-06 ... 9.9194248e-04\n",
      "   1.8057893e-03 0.0000000e+00]\n",
      "  [2.6426924e-06 7.6188203e-06 2.6058683e-06 ... 9.4395078e-04\n",
      "   1.7787950e-03 0.0000000e+00]]\n",
      "\n",
      " [[0.0000000e+00 0.0000000e+00 0.0000000e+00 ... 0.0000000e+00\n",
      "   0.0000000e+00 0.0000000e+00]\n",
      "  [0.0000000e+00 0.0000000e+00 0.0000000e+00 ... 0.0000000e+00\n",
      "   0.0000000e+00 0.0000000e+00]\n",
      "  [0.0000000e+00 0.0000000e+00 0.0000000e+00 ... 0.0000000e+00\n",
      "   0.0000000e+00 0.0000000e+00]\n",
      "  ...\n",
      "  [0.0000000e+00 0.0000000e+00 0.0000000e+00 ... 0.0000000e+00\n",
      "   0.0000000e+00 0.0000000e+00]\n",
      "  [0.0000000e+00 0.0000000e+00 0.0000000e+00 ... 0.0000000e+00\n",
      "   0.0000000e+00 0.0000000e+00]\n",
      "  [0.0000000e+00 0.0000000e+00 0.0000000e+00 ... 0.0000000e+00\n",
      "   0.0000000e+00 0.0000000e+00]]]\n"
     ]
    }
   ],
   "source": [
    "# Access a specific row (e.g., the first row)\n",
    "sample_row = df.iloc[2]\n",
    "\n",
    "# Access the 'radar_return' column of the sample row\n",
    "sample_image = sample_row['radar_return']\n",
    "\n",
    "# Display shape and values\n",
    "print(\"Shape of the sample image:\", sample_image.shape)\n",
    "print(\"Sample image values:\")\n",
    "print(sample_image)"
   ]
  },
  {
   "cell_type": "code",
   "execution_count": 15,
   "metadata": {},
   "outputs": [],
   "source": [
    "\n",
    "def plot_channels(tensor):\n",
    "    \"\"\"\n",
    "    Plot each channel of a 3D tensor as grayscale images.\n",
    "\n",
    "    Args:\n",
    "    - tensor (ndarray): 3D numpy array with shape (channels, height, width)\n",
    "    \"\"\"\n",
    "    num_channels = tensor.shape[0]\n",
    "    fig, axes = plt.subplots(1, num_channels, figsize=(5*num_channels, 5))\n",
    "    \n",
    "    for i in range(num_channels):\n",
    "        ax = axes[i] if num_channels > 1 else axes\n",
    "        ax.imshow(tensor[i], cmap='gray')\n",
    "        ax.set_title(f'Channel {i+1}')\n",
    "        ax.axis('off')\n",
    "    \n",
    "    plt.show()\n"
   ]
  },
  {
   "cell_type": "code",
   "execution_count": 16,
   "metadata": {},
   "outputs": [
    {
     "data": {
      "image/png": "[encoded data removed]",
      "text/plain": [
       "<Figure size 1000x500 with 2 Axes>"
      ]
     },
     "metadata": {},
     "output_type": "display_data"
    }
   ],
   "source": [
    "plot_channels(sample_image)"
   ]
  },
  {
   "cell_type": "code",
   "execution_count": null,
   "metadata": {},
   "outputs": [],
   "source": []
  }
 ],
 "metadata": {
  "kernelspec": {
   "display_name": "Python 3 (ipykernel)",
   "language": "python",
   "name": "python3"
  },
  "language_info": {
   "codemirror_mode": {
    "name": "ipython",
    "version": 3
   },
   "file_extension": ".py",
   "mimetype": "text/x-python",
   "name": "python",
   "nbconvert_exporter": "python",
   "pygments_lexer": "ipython3",
   "version": "3.9.13"
  }
 },
 "nbformat": 4,
 "nbformat_minor": 4
}
